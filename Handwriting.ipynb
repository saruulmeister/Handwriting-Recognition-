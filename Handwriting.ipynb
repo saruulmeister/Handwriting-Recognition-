{
 "cells": [
  {
   "cell_type": "markdown",
   "metadata": {},
   "source": [
    "# PSET1 Starter Code"
   ]
  },
  {
   "cell_type": "markdown",
   "metadata": {},
   "source": [
    "This notebook has all the code needed to get you started on PSET1. As this problem set deals with images, it may be a bit different than what you are used to. Let's get started by importing our needed libraries."
   ]
  },
  {
   "cell_type": "markdown",
   "metadata": {},
   "source": [
    "## Problem Description"
   ]
  },
  {
   "cell_type": "markdown",
   "metadata": {},
   "source": [
    "Optical Character Recognition (OCR) has been a machine learning problem for decades. It's a great place to start building ML models because of the good results and not much extra knowledge is needed. \n",
    "\n",
    "This problem set will use a Mongolian dataset of 346,500 28x28 pixel images of handwritten Mongolian letters. There are a total of 66 different classes (letters) including uppercase and lowercase letters. Your task is to build a model with the lowest **micro-weighted F1 Score** which can be calculated from `sklearn.metrics.f1_score` using the `average='micro'` option.\n",
    "\n",
    "Here is a short description from Kaggle:\n",
    "\"Mongolian Cyrillic is an alphabet set of 35 characters and an official writing system that used in Mongolia. It is identical to Russian alphabet except for two additional characters Өө ⟨ö⟩ and Үү ⟨ü⟩. The HMCC database contains both uppercase and lowercase character images for 62 classes and only lowercase character images for letters Й, Ъ, Ы, and Ь, these 4 letters never come as first letter of a word. Thus the database have maximum 66 classes.\"\n",
    "\n",
    "The table below shows the samples and classes. You can find the letters and corresponding class numbers on the left side of the table.\n",
    "\n",
    "<img src='https://i.imgur.com/fYUZNdz.png' width=400></img>"
   ]
  },
  {
   "cell_type": "markdown",
   "metadata": {},
   "source": [
    "## Benchmark Score"
   ]
  },
  {
   "cell_type": "markdown",
   "metadata": {},
   "source": [
    "Your goal is to beat the benchmark micro-average F1 score of **0.65**.\n",
    "\n",
    "**Note:** You can calculate the micro-averaged F1 with the following code: `sklearn.metrics.f1_score(y_test, y_pred, average='micro')`."
   ]
  },
  {
   "cell_type": "markdown",
   "metadata": {},
   "source": [
    "## Import Libraries"
   ]
  },
  {
   "cell_type": "code",
   "execution_count": 1,
   "metadata": {},
   "outputs": [],
   "source": [
    "import pandas as pd\n",
    "import matplotlib as mpl\n",
    "import matplotlib.pyplot as plt\n",
    "from sklearn import *\n",
    "\n",
    "%matplotlib inline"
   ]
  },
  {
   "cell_type": "markdown",
   "metadata": {},
   "source": [
    "Notice that I went ahead and imported all (`*`) from `sklearn`. Feel free to change that if you would like."
   ]
  },
  {
   "cell_type": "markdown",
   "metadata": {},
   "source": [
    "## Load Data"
   ]
  },
  {
   "cell_type": "markdown",
   "metadata": {},
   "source": [
    "Now let's import our data. **Note:** This assumes you have your data in a folder called `data` that is in the same folder at this notebook."
   ]
  },
  {
   "cell_type": "code",
   "execution_count": 2,
   "metadata": {},
   "outputs": [],
   "source": [
    "X = pd.read_csv('X.csv', index_col='id')"
   ]
  },
  {
   "cell_type": "code",
   "execution_count": 3,
   "metadata": {},
   "outputs": [
    {
     "data": {
      "text/html": [
       "<div>\n",
       "<style scoped>\n",
       "    .dataframe tbody tr th:only-of-type {\n",
       "        vertical-align: middle;\n",
       "    }\n",
       "\n",
       "    .dataframe tbody tr th {\n",
       "        vertical-align: top;\n",
       "    }\n",
       "\n",
       "    .dataframe thead th {\n",
       "        text-align: right;\n",
       "    }\n",
       "</style>\n",
       "<table border=\"1\" class=\"dataframe\">\n",
       "  <thead>\n",
       "    <tr style=\"text-align: right;\">\n",
       "      <th></th>\n",
       "      <th>1</th>\n",
       "      <th>2</th>\n",
       "      <th>3</th>\n",
       "      <th>4</th>\n",
       "      <th>5</th>\n",
       "      <th>6</th>\n",
       "      <th>7</th>\n",
       "      <th>8</th>\n",
       "      <th>9</th>\n",
       "      <th>10</th>\n",
       "      <th>...</th>\n",
       "      <th>775</th>\n",
       "      <th>776</th>\n",
       "      <th>777</th>\n",
       "      <th>778</th>\n",
       "      <th>779</th>\n",
       "      <th>780</th>\n",
       "      <th>781</th>\n",
       "      <th>782</th>\n",
       "      <th>783</th>\n",
       "      <th>784</th>\n",
       "    </tr>\n",
       "    <tr>\n",
       "      <th>id</th>\n",
       "      <th></th>\n",
       "      <th></th>\n",
       "      <th></th>\n",
       "      <th></th>\n",
       "      <th></th>\n",
       "      <th></th>\n",
       "      <th></th>\n",
       "      <th></th>\n",
       "      <th></th>\n",
       "      <th></th>\n",
       "      <th></th>\n",
       "      <th></th>\n",
       "      <th></th>\n",
       "      <th></th>\n",
       "      <th></th>\n",
       "      <th></th>\n",
       "      <th></th>\n",
       "      <th></th>\n",
       "      <th></th>\n",
       "      <th></th>\n",
       "      <th></th>\n",
       "    </tr>\n",
       "  </thead>\n",
       "  <tbody>\n",
       "    <tr>\n",
       "      <th>80201</th>\n",
       "      <td>0</td>\n",
       "      <td>0</td>\n",
       "      <td>0</td>\n",
       "      <td>0</td>\n",
       "      <td>0</td>\n",
       "      <td>0</td>\n",
       "      <td>0</td>\n",
       "      <td>0</td>\n",
       "      <td>0</td>\n",
       "      <td>0</td>\n",
       "      <td>...</td>\n",
       "      <td>0</td>\n",
       "      <td>0</td>\n",
       "      <td>0</td>\n",
       "      <td>0</td>\n",
       "      <td>0</td>\n",
       "      <td>0</td>\n",
       "      <td>0</td>\n",
       "      <td>0</td>\n",
       "      <td>0</td>\n",
       "      <td>0</td>\n",
       "    </tr>\n",
       "    <tr>\n",
       "      <th>10456</th>\n",
       "      <td>0</td>\n",
       "      <td>0</td>\n",
       "      <td>0</td>\n",
       "      <td>0</td>\n",
       "      <td>0</td>\n",
       "      <td>0</td>\n",
       "      <td>0</td>\n",
       "      <td>0</td>\n",
       "      <td>0</td>\n",
       "      <td>0</td>\n",
       "      <td>...</td>\n",
       "      <td>0</td>\n",
       "      <td>0</td>\n",
       "      <td>0</td>\n",
       "      <td>0</td>\n",
       "      <td>0</td>\n",
       "      <td>0</td>\n",
       "      <td>0</td>\n",
       "      <td>0</td>\n",
       "      <td>0</td>\n",
       "      <td>0</td>\n",
       "    </tr>\n",
       "    <tr>\n",
       "      <th>19852</th>\n",
       "      <td>0</td>\n",
       "      <td>0</td>\n",
       "      <td>0</td>\n",
       "      <td>0</td>\n",
       "      <td>0</td>\n",
       "      <td>0</td>\n",
       "      <td>0</td>\n",
       "      <td>0</td>\n",
       "      <td>0</td>\n",
       "      <td>0</td>\n",
       "      <td>...</td>\n",
       "      <td>0</td>\n",
       "      <td>0</td>\n",
       "      <td>0</td>\n",
       "      <td>0</td>\n",
       "      <td>0</td>\n",
       "      <td>0</td>\n",
       "      <td>0</td>\n",
       "      <td>0</td>\n",
       "      <td>0</td>\n",
       "      <td>0</td>\n",
       "    </tr>\n",
       "    <tr>\n",
       "      <th>139529</th>\n",
       "      <td>0</td>\n",
       "      <td>0</td>\n",
       "      <td>0</td>\n",
       "      <td>0</td>\n",
       "      <td>0</td>\n",
       "      <td>0</td>\n",
       "      <td>0</td>\n",
       "      <td>0</td>\n",
       "      <td>0</td>\n",
       "      <td>0</td>\n",
       "      <td>...</td>\n",
       "      <td>0</td>\n",
       "      <td>0</td>\n",
       "      <td>0</td>\n",
       "      <td>0</td>\n",
       "      <td>0</td>\n",
       "      <td>0</td>\n",
       "      <td>0</td>\n",
       "      <td>0</td>\n",
       "      <td>0</td>\n",
       "      <td>0</td>\n",
       "    </tr>\n",
       "    <tr>\n",
       "      <th>131618</th>\n",
       "      <td>0</td>\n",
       "      <td>0</td>\n",
       "      <td>0</td>\n",
       "      <td>0</td>\n",
       "      <td>0</td>\n",
       "      <td>0</td>\n",
       "      <td>0</td>\n",
       "      <td>0</td>\n",
       "      <td>0</td>\n",
       "      <td>0</td>\n",
       "      <td>...</td>\n",
       "      <td>0</td>\n",
       "      <td>0</td>\n",
       "      <td>0</td>\n",
       "      <td>0</td>\n",
       "      <td>0</td>\n",
       "      <td>0</td>\n",
       "      <td>0</td>\n",
       "      <td>0</td>\n",
       "      <td>0</td>\n",
       "      <td>0</td>\n",
       "    </tr>\n",
       "  </tbody>\n",
       "</table>\n",
       "<p>5 rows × 784 columns</p>\n",
       "</div>"
      ],
      "text/plain": [
       "        1  2  3  4  5  6  7  8  9  10  ...  775  776  777  778  779  780  781  \\\n",
       "id                                     ...                                      \n",
       "80201   0  0  0  0  0  0  0  0  0   0  ...    0    0    0    0    0    0    0   \n",
       "10456   0  0  0  0  0  0  0  0  0   0  ...    0    0    0    0    0    0    0   \n",
       "19852   0  0  0  0  0  0  0  0  0   0  ...    0    0    0    0    0    0    0   \n",
       "139529  0  0  0  0  0  0  0  0  0   0  ...    0    0    0    0    0    0    0   \n",
       "131618  0  0  0  0  0  0  0  0  0   0  ...    0    0    0    0    0    0    0   \n",
       "\n",
       "        782  783  784  \n",
       "id                     \n",
       "80201     0    0    0  \n",
       "10456     0    0    0  \n",
       "19852     0    0    0  \n",
       "139529    0    0    0  \n",
       "131618    0    0    0  \n",
       "\n",
       "[5 rows x 784 columns]"
      ]
     },
     "execution_count": 3,
     "metadata": {},
     "output_type": "execute_result"
    }
   ],
   "source": [
    "X.head()"
   ]
  },
  {
   "cell_type": "code",
   "execution_count": 4,
   "metadata": {},
   "outputs": [],
   "source": [
    "y = pd.read_csv('y.csv', index_col='id')"
   ]
  },
  {
   "cell_type": "code",
   "execution_count": 5,
   "metadata": {},
   "outputs": [
    {
     "data": {
      "text/html": [
       "<div>\n",
       "<style scoped>\n",
       "    .dataframe tbody tr th:only-of-type {\n",
       "        vertical-align: middle;\n",
       "    }\n",
       "\n",
       "    .dataframe tbody tr th {\n",
       "        vertical-align: top;\n",
       "    }\n",
       "\n",
       "    .dataframe thead th {\n",
       "        text-align: right;\n",
       "    }\n",
       "</style>\n",
       "<table border=\"1\" class=\"dataframe\">\n",
       "  <thead>\n",
       "    <tr style=\"text-align: right;\">\n",
       "      <th></th>\n",
       "      <th>target</th>\n",
       "    </tr>\n",
       "    <tr>\n",
       "      <th>id</th>\n",
       "      <th></th>\n",
       "    </tr>\n",
       "  </thead>\n",
       "  <tbody>\n",
       "    <tr>\n",
       "      <th>80201</th>\n",
       "      <td>11</td>\n",
       "    </tr>\n",
       "    <tr>\n",
       "      <th>10456</th>\n",
       "      <td>56</td>\n",
       "    </tr>\n",
       "    <tr>\n",
       "      <th>19852</th>\n",
       "      <td>45</td>\n",
       "    </tr>\n",
       "    <tr>\n",
       "      <th>139529</th>\n",
       "      <td>21</td>\n",
       "    </tr>\n",
       "    <tr>\n",
       "      <th>131618</th>\n",
       "      <td>47</td>\n",
       "    </tr>\n",
       "  </tbody>\n",
       "</table>\n",
       "</div>"
      ],
      "text/plain": [
       "        target\n",
       "id            \n",
       "80201       11\n",
       "10456       56\n",
       "19852       45\n",
       "139529      21\n",
       "131618      47"
      ]
     },
     "execution_count": 5,
     "metadata": {},
     "output_type": "execute_result"
    }
   ],
   "source": [
    "y.head()"
   ]
  },
  {
   "cell_type": "code",
   "execution_count": 6,
   "metadata": {},
   "outputs": [],
   "source": [
    "test = pd.read_csv('test.csv', index_col='id')"
   ]
  },
  {
   "cell_type": "code",
   "execution_count": 7,
   "metadata": {},
   "outputs": [
    {
     "data": {
      "text/html": [
       "<div>\n",
       "<style scoped>\n",
       "    .dataframe tbody tr th:only-of-type {\n",
       "        vertical-align: middle;\n",
       "    }\n",
       "\n",
       "    .dataframe tbody tr th {\n",
       "        vertical-align: top;\n",
       "    }\n",
       "\n",
       "    .dataframe thead th {\n",
       "        text-align: right;\n",
       "    }\n",
       "</style>\n",
       "<table border=\"1\" class=\"dataframe\">\n",
       "  <thead>\n",
       "    <tr style=\"text-align: right;\">\n",
       "      <th></th>\n",
       "      <th>1</th>\n",
       "      <th>2</th>\n",
       "      <th>3</th>\n",
       "      <th>4</th>\n",
       "      <th>5</th>\n",
       "      <th>6</th>\n",
       "      <th>7</th>\n",
       "      <th>8</th>\n",
       "      <th>9</th>\n",
       "      <th>10</th>\n",
       "      <th>...</th>\n",
       "      <th>775</th>\n",
       "      <th>776</th>\n",
       "      <th>777</th>\n",
       "      <th>778</th>\n",
       "      <th>779</th>\n",
       "      <th>780</th>\n",
       "      <th>781</th>\n",
       "      <th>782</th>\n",
       "      <th>783</th>\n",
       "      <th>784</th>\n",
       "    </tr>\n",
       "    <tr>\n",
       "      <th>id</th>\n",
       "      <th></th>\n",
       "      <th></th>\n",
       "      <th></th>\n",
       "      <th></th>\n",
       "      <th></th>\n",
       "      <th></th>\n",
       "      <th></th>\n",
       "      <th></th>\n",
       "      <th></th>\n",
       "      <th></th>\n",
       "      <th></th>\n",
       "      <th></th>\n",
       "      <th></th>\n",
       "      <th></th>\n",
       "      <th></th>\n",
       "      <th></th>\n",
       "      <th></th>\n",
       "      <th></th>\n",
       "      <th></th>\n",
       "      <th></th>\n",
       "      <th></th>\n",
       "    </tr>\n",
       "  </thead>\n",
       "  <tbody>\n",
       "    <tr>\n",
       "      <th>207659</th>\n",
       "      <td>0</td>\n",
       "      <td>0</td>\n",
       "      <td>0</td>\n",
       "      <td>0</td>\n",
       "      <td>0</td>\n",
       "      <td>0</td>\n",
       "      <td>0</td>\n",
       "      <td>0</td>\n",
       "      <td>0</td>\n",
       "      <td>0</td>\n",
       "      <td>...</td>\n",
       "      <td>0</td>\n",
       "      <td>0</td>\n",
       "      <td>0</td>\n",
       "      <td>0</td>\n",
       "      <td>0</td>\n",
       "      <td>0</td>\n",
       "      <td>0</td>\n",
       "      <td>0</td>\n",
       "      <td>0</td>\n",
       "      <td>0</td>\n",
       "    </tr>\n",
       "    <tr>\n",
       "      <th>35765</th>\n",
       "      <td>0</td>\n",
       "      <td>0</td>\n",
       "      <td>0</td>\n",
       "      <td>0</td>\n",
       "      <td>0</td>\n",
       "      <td>0</td>\n",
       "      <td>0</td>\n",
       "      <td>0</td>\n",
       "      <td>0</td>\n",
       "      <td>0</td>\n",
       "      <td>...</td>\n",
       "      <td>0</td>\n",
       "      <td>0</td>\n",
       "      <td>0</td>\n",
       "      <td>0</td>\n",
       "      <td>0</td>\n",
       "      <td>0</td>\n",
       "      <td>0</td>\n",
       "      <td>0</td>\n",
       "      <td>0</td>\n",
       "      <td>0</td>\n",
       "    </tr>\n",
       "    <tr>\n",
       "      <th>70218</th>\n",
       "      <td>0</td>\n",
       "      <td>0</td>\n",
       "      <td>0</td>\n",
       "      <td>0</td>\n",
       "      <td>0</td>\n",
       "      <td>0</td>\n",
       "      <td>0</td>\n",
       "      <td>0</td>\n",
       "      <td>0</td>\n",
       "      <td>0</td>\n",
       "      <td>...</td>\n",
       "      <td>0</td>\n",
       "      <td>0</td>\n",
       "      <td>0</td>\n",
       "      <td>0</td>\n",
       "      <td>0</td>\n",
       "      <td>0</td>\n",
       "      <td>0</td>\n",
       "      <td>0</td>\n",
       "      <td>0</td>\n",
       "      <td>0</td>\n",
       "    </tr>\n",
       "    <tr>\n",
       "      <th>153552</th>\n",
       "      <td>0</td>\n",
       "      <td>0</td>\n",
       "      <td>0</td>\n",
       "      <td>0</td>\n",
       "      <td>0</td>\n",
       "      <td>0</td>\n",
       "      <td>0</td>\n",
       "      <td>0</td>\n",
       "      <td>0</td>\n",
       "      <td>0</td>\n",
       "      <td>...</td>\n",
       "      <td>0</td>\n",
       "      <td>0</td>\n",
       "      <td>0</td>\n",
       "      <td>0</td>\n",
       "      <td>0</td>\n",
       "      <td>0</td>\n",
       "      <td>0</td>\n",
       "      <td>0</td>\n",
       "      <td>0</td>\n",
       "      <td>0</td>\n",
       "    </tr>\n",
       "    <tr>\n",
       "      <th>289450</th>\n",
       "      <td>0</td>\n",
       "      <td>0</td>\n",
       "      <td>0</td>\n",
       "      <td>0</td>\n",
       "      <td>0</td>\n",
       "      <td>0</td>\n",
       "      <td>0</td>\n",
       "      <td>0</td>\n",
       "      <td>0</td>\n",
       "      <td>0</td>\n",
       "      <td>...</td>\n",
       "      <td>0</td>\n",
       "      <td>0</td>\n",
       "      <td>0</td>\n",
       "      <td>0</td>\n",
       "      <td>0</td>\n",
       "      <td>0</td>\n",
       "      <td>0</td>\n",
       "      <td>0</td>\n",
       "      <td>0</td>\n",
       "      <td>0</td>\n",
       "    </tr>\n",
       "  </tbody>\n",
       "</table>\n",
       "<p>5 rows × 784 columns</p>\n",
       "</div>"
      ],
      "text/plain": [
       "        1  2  3  4  5  6  7  8  9  10  ...  775  776  777  778  779  780  781  \\\n",
       "id                                     ...                                      \n",
       "207659  0  0  0  0  0  0  0  0  0   0  ...    0    0    0    0    0    0    0   \n",
       "35765   0  0  0  0  0  0  0  0  0   0  ...    0    0    0    0    0    0    0   \n",
       "70218   0  0  0  0  0  0  0  0  0   0  ...    0    0    0    0    0    0    0   \n",
       "153552  0  0  0  0  0  0  0  0  0   0  ...    0    0    0    0    0    0    0   \n",
       "289450  0  0  0  0  0  0  0  0  0   0  ...    0    0    0    0    0    0    0   \n",
       "\n",
       "        782  783  784  \n",
       "id                     \n",
       "207659    0    0    0  \n",
       "35765     0    0    0  \n",
       "70218     0    0    0  \n",
       "153552    0    0    0  \n",
       "289450    0    0    0  \n",
       "\n",
       "[5 rows x 784 columns]"
      ]
     },
     "execution_count": 7,
     "metadata": {},
     "output_type": "execute_result"
    }
   ],
   "source": [
    "test.head()"
   ]
  },
  {
   "cell_type": "code",
   "execution_count": 8,
   "metadata": {},
   "outputs": [],
   "source": [
    " from sklearn.model_selection import train_test_split"
   ]
  },
  {
   "cell_type": "markdown",
   "metadata": {},
   "source": [
    "We just imported the following datasets:\n",
    "\n",
    "- X_train - Our training data. Each row represents a different image. Each image is 28 pixels by 28 pixels (28 x 28 = 784)\n",
    "- y_train - The corresponding true labels for the X_train dataset. There are 66 classes in this dataset (more on that later)\n",
    "- X_test - The X values for our test set. This is what predictions will be made from.\n",
    "\n",
    "Each dataframe contains an \"id\" column, which has been set to the index in our code above. This identifies the row of the image. When submitting your predictions, this \"id\" column is very important as it allows your score to be calculated correctly."
   ]
  },
  {
   "cell_type": "markdown",
   "metadata": {},
   "source": [
    " #  Data Spliting"
   ]
  },
  {
   "cell_type": "code",
   "execution_count": 9,
   "metadata": {},
   "outputs": [],
   "source": [
    "X_train, X_test, y_train, y_test = train_test_split(X, y, test_size=0.15, random_state=42)"
   ]
  },
  {
   "cell_type": "markdown",
   "metadata": {},
   "source": []
  },
  {
   "cell_type": "markdown",
   "metadata": {},
   "source": [
    "## Making Pictures From Data"
   ]
  },
  {
   "cell_type": "markdown",
   "metadata": {},
   "source": [
    "As all you have are numbers in rows, how do we make pictures from these? `Matplotlib` has an `imshow` method that allows us to make a picture from numbers. Pretty cool huh?\n",
    "\n",
    "It is important to remember that a picture is just made up of pixels. Each pixel is a number ranging from 0-255 in either the Red, Green, or Blue channel. This dataset is in grayscale, so we only need one number for each pixel. \n",
    "\n",
    "Let's take a look at a few of the handwritten letters. "
   ]
  },
  {
   "cell_type": "code",
   "execution_count": 10,
   "metadata": {},
   "outputs": [],
   "source": [
    "def show_character(df, i):\n",
    "    some_digit = df.iloc[i-1:i].values\n",
    "    some_digit_image = some_digit.reshape(28, 28)\n",
    "    plt.imshow(some_digit_image, cmap=mpl.cm.binary)\n",
    "    plt.axis(\"off\")\n",
    "    return plt.show()"
   ]
  },
  {
   "cell_type": "markdown",
   "metadata": {},
   "source": [
    "This function takes a dataframe and a position integer, then reshapes the data into a 28x28 square, then displays it using the imshow method. "
   ]
  },
  {
   "cell_type": "code",
   "execution_count": 11,
   "metadata": {},
   "outputs": [
    {
     "data": {
      "image/png": "[encoded data removed]",
      "text/plain": [
       "<Figure size 432x288 with 1 Axes>"
      ]
     },
     "metadata": {
      "needs_background": "light"
     },
     "output_type": "display_data"
    }
   ],
   "source": [
    "show_character(X_train, 1)"
   ]
  },
  {
   "cell_type": "code",
   "execution_count": 12,
   "metadata": {},
   "outputs": [
    {
     "data": {
      "image/png": "[encoded data removed]",
      "text/plain": [
       "<Figure size 432x288 with 1 Axes>"
      ]
     },
     "metadata": {
      "needs_background": "light"
     },
     "output_type": "display_data"
    }
   ],
   "source": [
    "show_character(X_train, 100)"
   ]
  },
  {
   "cell_type": "code",
   "execution_count": 13,
   "metadata": {},
   "outputs": [
    {
     "data": {
      "image/png": "[encoded data removed]",
      "text/plain": [
       "<Figure size 432x288 with 1 Axes>"
      ]
     },
     "metadata": {
      "needs_background": "light"
     },
     "output_type": "display_data"
    }
   ],
   "source": [
    "show_character(X_train, -1)"
   ]
  },
  {
   "cell_type": "markdown",
   "metadata": {},
   "source": [
    "Can you identify those letters? Play around a bit and get comfortable with this code. \n",
    "\n",
    "Now we can make a grid of some of these letters to get a bigger picture. This code takes the first 10 images from the `X_train` dataframe and shows them. "
   ]
  },
  {
   "cell_type": "code",
   "execution_count": 14,
   "metadata": {},
   "outputs": [
    {
     "data": {
      "text/plain": [
       "(0.0, 1.0, 27.5, -0.5)"
      ]
     },
     "execution_count": 14,
     "metadata": {},
     "output_type": "execute_result"
    },
    {
     "data": {
      "image/png": "[encoded data removed]",
      "text/plain": [
       "<Figure size 1152x144 with 10 Axes>"
      ]
     },
     "metadata": {
      "needs_background": "light"
     },
     "output_type": "display_data"
    }
   ],
   "source": [
    "fig, ax = plt.subplots(1,10, sharex='col', sharey='row', figsize=(16,2))\n",
    "for i in range(1,10):\n",
    "    some_digit = X_train.iloc[i-1:i].values\n",
    "    some_digit_image = some_digit.reshape(28, 28)\n",
    "    ax[i-1].imshow(some_digit_image, cmap=mpl.cm.binary)\n",
    "plt.axis(\"off\")"
   ]
  },
  {
   "cell_type": "markdown",
   "metadata": {},
   "source": [
    "## Where to go from here?"
   ]
  },
  {
   "cell_type": "markdown",
   "metadata": {},
   "source": [
    "You should have everything you need to get started! Here are a few questions you could ask:\n",
    "\n",
    "- Are the classes balanced?\n",
    "- Could you do something to the images that would make the model work better?\n",
    "\n",
    "But I will leave it up to you! Good luck!"
   ]
  },
  {
   "cell_type": "markdown",
   "metadata": {},
   "source": [
    "- X_train - Our training data. Each row represents a different image. Each image is 28 pixels by 28 pixels (28 x 28 = 784)\n",
    "- y_train - The corresponding true labels for the X_train dataset. There are 66 classes in this dataset (more on that later)\n",
    "- X_test - The X values for our test set. This is what predictions will be made from."
   ]
  },
  {
   "cell_type": "markdown",
   "metadata": {},
   "source": [
    "# Random Forest "
   ]
  },
  {
   "cell_type": "markdown",
   "metadata": {},
   "source": [
    "At first, I downloaded packages that are used for classification."
   ]
  },
  {
   "cell_type": "code",
   "execution_count": 15,
   "metadata": {},
   "outputs": [],
   "source": [
    "from sklearn.ensemble import RandomForestClassifier\n",
    "from sklearn.datasets import make_classification\n",
    "from sklearn import svm"
   ]
  },
  {
   "cell_type": "markdown",
   "metadata": {},
   "source": [
    "I am going to use that method to improve predictive accuracy and control over-fitting. "
   ]
  },
  {
   "cell_type": "code",
   "execution_count": 16,
   "metadata": {},
   "outputs": [],
   "source": [
    "clf = RandomForestClassifier(verbose = 10,\n",
    "                             random_state=42,\n",
    "                             n_estimators = 210,\n",
    "                            n_jobs = 1)"
   ]
  },
  {
   "cell_type": "markdown",
   "metadata": {},
   "source": [
    "I decided to build 210 trees because of my memory usage."
   ]
  },
  {
   "cell_type": "code",
   "execution_count": 17,
   "metadata": {},
   "outputs": [
    {
     "name": "stderr",
     "output_type": "stream",
     "text": [
      "/usr/local/lib/python3.6/dist-packages/ipykernel_launcher.py:1: DataConversionWarning: A column-vector y was passed when a 1d array was expected. Please change the shape of y to (n_samples,), for example using ravel().\n",
      "  \"\"\"Entry point for launching an IPython kernel.\n",
      "[Parallel(n_jobs=1)]: Using backend SequentialBackend with 1 concurrent workers.\n"
     ]
    },
    {
     "name": "stdout",
     "output_type": "stream",
     "text": [
      "building tree 1 of 210\n"
     ]
    },
    {
     "name": "stderr",
     "output_type": "stream",
     "text": [
      "[Parallel(n_jobs=1)]: Done   1 out of   1 | elapsed:    6.5s remaining:    0.0s\n"
     ]
    },
    {
     "name": "stdout",
     "output_type": "stream",
     "text": [
      "building tree 2 of 210\n"
     ]
    },
    {
     "name": "stderr",
     "output_type": "stream",
     "text": [
      "[Parallel(n_jobs=1)]: Done   2 out of   2 | elapsed:   12.6s remaining:    0.0s\n"
     ]
    },
    {
     "name": "stdout",
     "output_type": "stream",
     "text": [
      "building tree 3 of 210\n"
     ]
    },
    {
     "name": "stderr",
     "output_type": "stream",
     "text": [
      "[Parallel(n_jobs=1)]: Done   3 out of   3 | elapsed:   19.4s remaining:    0.0s\n"
     ]
    },
    {
     "name": "stdout",
     "output_type": "stream",
     "text": [
      "building tree 4 of 210\n"
     ]
    },
    {
     "name": "stderr",
     "output_type": "stream",
     "text": [
      "[Parallel(n_jobs=1)]: Done   4 out of   4 | elapsed:   26.2s remaining:    0.0s\n"
     ]
    },
    {
     "name": "stdout",
     "output_type": "stream",
     "text": [
      "building tree 5 of 210\n"
     ]
    },
    {
     "name": "stderr",
     "output_type": "stream",
     "text": [
      "[Parallel(n_jobs=1)]: Done   5 out of   5 | elapsed:   32.7s remaining:    0.0s\n"
     ]
    },
    {
     "name": "stdout",
     "output_type": "stream",
     "text": [
      "building tree 6 of 210\n"
     ]
    },
    {
     "name": "stderr",
     "output_type": "stream",
     "text": [
      "[Parallel(n_jobs=1)]: Done   6 out of   6 | elapsed:   39.3s remaining:    0.0s\n"
     ]
    },
    {
     "name": "stdout",
     "output_type": "stream",
     "text": [
      "building tree 7 of 210\n"
     ]
    },
    {
     "name": "stderr",
     "output_type": "stream",
     "text": [
      "[Parallel(n_jobs=1)]: Done   7 out of   7 | elapsed:   45.5s remaining:    0.0s\n"
     ]
    },
    {
     "name": "stdout",
     "output_type": "stream",
     "text": [
      "building tree 8 of 210\n"
     ]
    },
    {
     "name": "stderr",
     "output_type": "stream",
     "text": [
      "[Parallel(n_jobs=1)]: Done   8 out of   8 | elapsed:   52.1s remaining:    0.0s\n"
     ]
    },
    {
     "name": "stdout",
     "output_type": "stream",
     "text": [
      "building tree 9 of 210\n"
     ]
    },
    {
     "name": "stderr",
     "output_type": "stream",
     "text": [
      "[Parallel(n_jobs=1)]: Done   9 out of   9 | elapsed:   58.2s remaining:    0.0s\n"
     ]
    },
    {
     "name": "stdout",
     "output_type": "stream",
     "text": [
      "building tree 10 of 210\n",
      "building tree 11 of 210\n",
      "building tree 12 of 210\n",
      "building tree 13 of 210\n",
      "building tree 14 of 210\n",
      "building tree 15 of 210\n",
      "building tree 16 of 210\n",
      "building tree 17 of 210\n",
      "building tree 18 of 210\n",
      "building tree 19 of 210\n",
      "building tree 20 of 210\n",
      "building tree 21 of 210\n",
      "building tree 22 of 210\n",
      "building tree 23 of 210\n",
      "building tree 24 of 210\n",
      "building tree 25 of 210\n",
      "building tree 26 of 210\n",
      "building tree 27 of 210\n",
      "building tree 28 of 210\n",
      "building tree 29 of 210\n",
      "building tree 30 of 210\n",
      "building tree 31 of 210\n",
      "building tree 32 of 210\n",
      "building tree 33 of 210\n",
      "building tree 34 of 210\n",
      "building tree 35 of 210\n",
      "building tree 36 of 210\n",
      "building tree 37 of 210\n",
      "building tree 38 of 210\n",
      "building tree 39 of 210\n",
      "building tree 40 of 210\n",
      "building tree 41 of 210\n",
      "building tree 42 of 210\n",
      "building tree 43 of 210\n",
      "building tree 44 of 210\n",
      "building tree 45 of 210\n",
      "building tree 46 of 210\n",
      "building tree 47 of 210\n",
      "building tree 48 of 210\n",
      "building tree 49 of 210\n",
      "building tree 50 of 210\n",
      "building tree 51 of 210\n",
      "building tree 52 of 210\n",
      "building tree 53 of 210\n",
      "building tree 54 of 210\n",
      "building tree 55 of 210\n",
      "building tree 56 of 210\n",
      "building tree 57 of 210\n",
      "building tree 58 of 210\n",
      "building tree 59 of 210\n",
      "building tree 60 of 210\n",
      "building tree 61 of 210\n",
      "building tree 62 of 210\n",
      "building tree 63 of 210\n",
      "building tree 64 of 210\n",
      "building tree 65 of 210\n",
      "building tree 66 of 210\n",
      "building tree 67 of 210\n",
      "building tree 68 of 210\n",
      "building tree 69 of 210\n",
      "building tree 70 of 210\n",
      "building tree 71 of 210\n",
      "building tree 72 of 210\n",
      "building tree 73 of 210\n",
      "building tree 74 of 210\n",
      "building tree 75 of 210\n",
      "building tree 76 of 210\n",
      "building tree 77 of 210\n",
      "building tree 78 of 210\n",
      "building tree 79 of 210\n",
      "building tree 80 of 210\n",
      "building tree 81 of 210\n",
      "building tree 82 of 210\n",
      "building tree 83 of 210\n",
      "building tree 84 of 210\n",
      "building tree 85 of 210\n",
      "building tree 86 of 210\n",
      "building tree 87 of 210\n",
      "building tree 88 of 210\n",
      "building tree 89 of 210\n",
      "building tree 90 of 210\n",
      "building tree 91 of 210\n",
      "building tree 92 of 210\n",
      "building tree 93 of 210\n",
      "building tree 94 of 210\n",
      "building tree 95 of 210\n",
      "building tree 96 of 210\n",
      "building tree 97 of 210\n",
      "building tree 98 of 210\n",
      "building tree 99 of 210\n",
      "building tree 100 of 210\n",
      "building tree 101 of 210\n",
      "building tree 102 of 210\n",
      "building tree 103 of 210\n",
      "building tree 104 of 210\n",
      "building tree 105 of 210\n",
      "building tree 106 of 210\n",
      "building tree 107 of 210\n",
      "building tree 108 of 210\n",
      "building tree 109 of 210\n",
      "building tree 110 of 210\n",
      "building tree 111 of 210\n",
      "building tree 112 of 210\n",
      "building tree 113 of 210\n",
      "building tree 114 of 210\n",
      "building tree 115 of 210\n",
      "building tree 116 of 210\n",
      "building tree 117 of 210\n",
      "building tree 118 of 210\n",
      "building tree 119 of 210\n",
      "building tree 120 of 210\n",
      "building tree 121 of 210\n",
      "building tree 122 of 210\n",
      "building tree 123 of 210\n",
      "building tree 124 of 210\n",
      "building tree 125 of 210\n",
      "building tree 126 of 210\n",
      "building tree 127 of 210\n",
      "building tree 128 of 210\n",
      "building tree 129 of 210\n",
      "building tree 130 of 210\n",
      "building tree 131 of 210\n",
      "building tree 132 of 210\n",
      "building tree 133 of 210\n",
      "building tree 134 of 210\n",
      "building tree 135 of 210\n",
      "building tree 136 of 210\n",
      "building tree 137 of 210\n",
      "building tree 138 of 210\n",
      "building tree 139 of 210\n",
      "building tree 140 of 210\n",
      "building tree 141 of 210\n",
      "building tree 142 of 210\n",
      "building tree 143 of 210\n",
      "building tree 144 of 210\n",
      "building tree 145 of 210\n",
      "building tree 146 of 210\n",
      "building tree 147 of 210\n",
      "building tree 148 of 210\n",
      "building tree 149 of 210\n",
      "building tree 150 of 210\n",
      "building tree 151 of 210\n",
      "building tree 152 of 210\n",
      "building tree 153 of 210\n",
      "building tree 154 of 210\n",
      "building tree 155 of 210\n",
      "building tree 156 of 210\n",
      "building tree 157 of 210\n",
      "building tree 158 of 210\n",
      "building tree 159 of 210\n",
      "building tree 160 of 210\n",
      "building tree 161 of 210\n",
      "building tree 162 of 210\n",
      "building tree 163 of 210\n",
      "building tree 164 of 210\n",
      "building tree 165 of 210\n",
      "building tree 166 of 210\n",
      "building tree 167 of 210\n",
      "building tree 168 of 210\n",
      "building tree 169 of 210\n",
      "building tree 170 of 210\n",
      "building tree 171 of 210\n",
      "building tree 172 of 210\n",
      "building tree 173 of 210\n",
      "building tree 174 of 210\n",
      "building tree 175 of 210\n",
      "building tree 176 of 210\n",
      "building tree 177 of 210\n",
      "building tree 178 of 210\n",
      "building tree 179 of 210\n",
      "building tree 180 of 210\n",
      "building tree 181 of 210\n",
      "building tree 182 of 210\n",
      "building tree 183 of 210\n",
      "building tree 184 of 210\n",
      "building tree 185 of 210\n",
      "building tree 186 of 210\n",
      "building tree 187 of 210\n",
      "building tree 188 of 210\n",
      "building tree 189 of 210\n",
      "building tree 190 of 210\n",
      "building tree 191 of 210\n",
      "building tree 192 of 210\n",
      "building tree 193 of 210\n",
      "building tree 194 of 210\n",
      "building tree 195 of 210\n",
      "building tree 196 of 210\n",
      "building tree 197 of 210\n",
      "building tree 198 of 210\n",
      "building tree 199 of 210\n",
      "building tree 200 of 210\n",
      "building tree 201 of 210\n",
      "building tree 202 of 210\n",
      "building tree 203 of 210\n",
      "building tree 204 of 210\n",
      "building tree 205 of 210\n",
      "building tree 206 of 210\n",
      "building tree 207 of 210\n",
      "building tree 208 of 210\n",
      "building tree 209 of 210\n",
      "building tree 210 of 210\n"
     ]
    },
    {
     "name": "stderr",
     "output_type": "stream",
     "text": [
      "[Parallel(n_jobs=1)]: Done 210 out of 210 | elapsed: 23.2min finished\n"
     ]
    },
    {
     "data": {
      "text/plain": [
       "RandomForestClassifier(bootstrap=True, class_weight=None, criterion='gini',\n",
       "                       max_depth=None, max_features='auto', max_leaf_nodes=None,\n",
       "                       min_impurity_decrease=0.0, min_impurity_split=None,\n",
       "                       min_samples_leaf=1, min_samples_split=2,\n",
       "                       min_weight_fraction_leaf=0.0, n_estimators=210, n_jobs=1,\n",
       "                       oob_score=False, random_state=42, verbose=10,\n",
       "                       warm_start=False)"
      ]
     },
     "execution_count": 17,
     "metadata": {},
     "output_type": "execute_result"
    }
   ],
   "source": [
    "clf.fit(X_train,y_train)"
   ]
  },
  {
   "cell_type": "code",
   "execution_count": 18,
   "metadata": {
    "scrolled": true
   },
   "outputs": [
    {
     "name": "stderr",
     "output_type": "stream",
     "text": [
      "[Parallel(n_jobs=1)]: Using backend SequentialBackend with 1 concurrent workers.\n",
      "[Parallel(n_jobs=1)]: Done   1 out of   1 | elapsed:    0.1s remaining:    0.0s\n",
      "[Parallel(n_jobs=1)]: Done   2 out of   2 | elapsed:    0.1s remaining:    0.0s\n",
      "[Parallel(n_jobs=1)]: Done   3 out of   3 | elapsed:    0.2s remaining:    0.0s\n",
      "[Parallel(n_jobs=1)]: Done   4 out of   4 | elapsed:    0.2s remaining:    0.0s\n",
      "[Parallel(n_jobs=1)]: Done   5 out of   5 | elapsed:    0.3s remaining:    0.0s\n",
      "[Parallel(n_jobs=1)]: Done   6 out of   6 | elapsed:    0.4s remaining:    0.0s\n",
      "[Parallel(n_jobs=1)]: Done   7 out of   7 | elapsed:    0.4s remaining:    0.0s\n",
      "[Parallel(n_jobs=1)]: Done   8 out of   8 | elapsed:    0.5s remaining:    0.0s\n",
      "[Parallel(n_jobs=1)]: Done   9 out of   9 | elapsed:    0.5s remaining:    0.0s\n",
      "[Parallel(n_jobs=1)]: Done 210 out of 210 | elapsed:   14.2s finished\n"
     ]
    }
   ],
   "source": [
    "model = clf.predict(X_test)"
   ]
  },
  {
   "cell_type": "code",
   "execution_count": 19,
   "metadata": {},
   "outputs": [
    {
     "data": {
      "text/plain": [
       "0.7211880711880713"
      ]
     },
     "execution_count": 19,
     "metadata": {},
     "output_type": "execute_result"
    }
   ],
   "source": [
    "metrics.f1_score(y_test, model, average='micro')"
   ]
  },
  {
   "cell_type": "code",
   "execution_count": 21,
   "metadata": {},
   "outputs": [
    {
     "name": "stderr",
     "output_type": "stream",
     "text": [
      "[Parallel(n_jobs=1)]: Using backend SequentialBackend with 1 concurrent workers.\n",
      "[Parallel(n_jobs=1)]: Done   1 out of   1 | elapsed:    0.2s remaining:    0.0s\n",
      "[Parallel(n_jobs=1)]: Done   2 out of   2 | elapsed:    0.4s remaining:    0.0s\n",
      "[Parallel(n_jobs=1)]: Done   3 out of   3 | elapsed:    0.6s remaining:    0.0s\n",
      "[Parallel(n_jobs=1)]: Done   4 out of   4 | elapsed:    0.7s remaining:    0.0s\n",
      "[Parallel(n_jobs=1)]: Done   5 out of   5 | elapsed:    0.8s remaining:    0.0s\n",
      "[Parallel(n_jobs=1)]: Done   6 out of   6 | elapsed:    0.9s remaining:    0.0s\n",
      "[Parallel(n_jobs=1)]: Done   7 out of   7 | elapsed:    1.0s remaining:    0.0s\n",
      "[Parallel(n_jobs=1)]: Done   8 out of   8 | elapsed:    1.1s remaining:    0.0s\n",
      "[Parallel(n_jobs=1)]: Done   9 out of   9 | elapsed:    1.4s remaining:    0.0s\n",
      "[Parallel(n_jobs=1)]: Done 210 out of 210 | elapsed:   29.5s finished\n"
     ]
    }
   ],
   "source": [
    "final = clf.predict(test)"
   ]
  },
  {
   "cell_type": "code",
   "execution_count": 25,
   "metadata": {},
   "outputs": [],
   "source": [
    "df = pd.DataFrame(final, columns =['label'])"
   ]
  },
  {
   "cell_type": "code",
   "execution_count": 26,
   "metadata": {},
   "outputs": [],
   "source": [
    "test = test.reset_index()"
   ]
  },
  {
   "cell_type": "code",
   "execution_count": 27,
   "metadata": {},
   "outputs": [],
   "source": [
    "result = pd.merge(test[['id']],\n",
    "                  df[['label']],\n",
    "                  left_index = True,\n",
    "                  right_index = True)"
   ]
  },
  {
   "cell_type": "code",
   "execution_count": 28,
   "metadata": {},
   "outputs": [],
   "source": [
    "result.to_csv(\"clf.csv\", \n",
    "              index = None, \n",
    "              sep = \",\",\n",
    "              header = True)"
   ]
  },
  {
   "cell_type": "markdown",
   "metadata": {},
   "source": [
    "#  Multilayer Perceptron"
   ]
  },
  {
   "cell_type": "code",
   "execution_count": null,
   "metadata": {},
   "outputs": [],
   "source": []
  },
  {
   "cell_type": "code",
   "execution_count": 15,
   "metadata": {},
   "outputs": [],
   "source": [
    "from sklearn.neural_network import MLPClassifier"
   ]
  },
  {
   "cell_type": "code",
   "execution_count": 16,
   "metadata": {},
   "outputs": [],
   "source": [
    "mlp = MLPClassifier(hidden_layer_sizes=(20), random_state=42, verbose = True)"
   ]
  },
  {
   "cell_type": "code",
   "execution_count": null,
   "metadata": {},
   "outputs": [
    {
     "name": "stdout",
     "output_type": "stream",
     "text": [
      "Iteration 1, loss = inf\n",
      "Iteration 2, loss = 3.61825045\n",
      "Iteration 3, loss = 3.18106985\n",
      "Iteration 4, loss = 2.88592069\n",
      "Iteration 5, loss = 2.56285903\n",
      "Iteration 6, loss = 2.32842094\n",
      "Iteration 7, loss = 2.22301213\n",
      "Iteration 8, loss = 2.16348560\n",
      "Iteration 9, loss = 2.11653205\n",
      "Iteration 10, loss = 2.08821640\n",
      "Iteration 11, loss = 2.06959977\n",
      "Iteration 12, loss = 2.05312647\n",
      "Iteration 13, loss = 2.03623888\n",
      "Iteration 14, loss = 2.01705513\n",
      "Iteration 15, loss = 2.00346646\n",
      "Iteration 16, loss = 1.98269795\n",
      "Iteration 17, loss = 1.96934735\n",
      "Iteration 18, loss = 1.96317148\n",
      "Iteration 19, loss = 1.95502371\n",
      "Iteration 20, loss = 1.94754968\n",
      "Iteration 21, loss = 1.94192360\n",
      "Iteration 22, loss = 1.93159015\n",
      "Iteration 23, loss = 1.92640872\n",
      "Iteration 24, loss = 1.92080831\n",
      "Iteration 25, loss = 1.91851859\n",
      "Iteration 26, loss = 1.90723442\n",
      "Iteration 27, loss = 1.90330062\n",
      "Iteration 28, loss = 1.90033451\n",
      "Iteration 29, loss = 1.89627643\n",
      "Iteration 30, loss = 1.89035801\n",
      "Iteration 31, loss = 1.88763877\n",
      "Iteration 32, loss = 1.88459026\n",
      "Iteration 33, loss = 1.87795359\n",
      "Iteration 34, loss = 1.86920113\n",
      "Iteration 35, loss = 1.86728580\n",
      "Iteration 36, loss = 1.86303197\n",
      "Iteration 37, loss = 1.86068158\n",
      "Iteration 38, loss = 1.84754514\n",
      "Iteration 39, loss = 1.84913767\n",
      "Iteration 40, loss = 1.84083740\n",
      "Iteration 41, loss = 1.83787736\n",
      "Iteration 42, loss = 1.83399678\n",
      "Iteration 43, loss = 1.82767413\n",
      "Iteration 44, loss = 1.82392309\n",
      "Iteration 45, loss = 1.82421182\n",
      "Iteration 46, loss = 1.81978187\n",
      "Iteration 47, loss = 1.81911991\n",
      "Iteration 48, loss = 1.81574418\n",
      "Iteration 49, loss = 1.80951976\n"
     ]
    }
   ],
   "source": [
    "mlp.fit(X_train, y_train.values.ravel())"
   ]
  },
  {
   "cell_type": "code",
   "execution_count": 26,
   "metadata": {},
   "outputs": [],
   "source": [
    "model1 = mlp.predict(X_test)"
   ]
  },
  {
   "cell_type": "code",
   "execution_count": 30,
   "metadata": {},
   "outputs": [
    {
     "data": {
      "text/plain": [
       "0.13773792345220917"
      ]
     },
     "execution_count": 30,
     "metadata": {},
     "output_type": "execute_result"
    }
   ],
   "source": [
    "metrics.f1_score(y_test, model1, average='micro')"
   ]
  },
  {
   "cell_type": "markdown",
   "metadata": {},
   "source": [
    "# Decision Tree"
   ]
  },
  {
   "cell_type": "markdown",
   "metadata": {},
   "source": [
    "It will be used to make a classification. The reason why I am trying to use this method is: It requires relatively less effort for training the algorithm."
   ]
  },
  {
   "cell_type": "code",
   "execution_count": 19,
   "metadata": {},
   "outputs": [],
   "source": [
    "clf1 = tree.DecisionTreeClassifier(random_state=42)\n",
    "                        \n"
   ]
  },
  {
   "cell_type": "code",
   "execution_count": 21,
   "metadata": {},
   "outputs": [
    {
     "data": {
      "text/plain": [
       "DecisionTreeClassifier(class_weight=None, criterion='gini', max_depth=None,\n",
       "                       max_features=None, max_leaf_nodes=None,\n",
       "                       min_impurity_decrease=0.0, min_impurity_split=None,\n",
       "                       min_samples_leaf=1, min_samples_split=2,\n",
       "                       min_weight_fraction_leaf=0.0, presort=False,\n",
       "                       random_state=42, splitter='best')"
      ]
     },
     "execution_count": 21,
     "metadata": {},
     "output_type": "execute_result"
    }
   ],
   "source": [
    "clf1.fit(X_train, y_train)"
   ]
  },
  {
   "cell_type": "code",
   "execution_count": 22,
   "metadata": {},
   "outputs": [],
   "source": [
    "model2 = clf1.predict(X_test)"
   ]
  },
  {
   "cell_type": "code",
   "execution_count": 23,
   "metadata": {},
   "outputs": [
    {
     "data": {
      "text/plain": [
       "0.36957671957671956"
      ]
     },
     "execution_count": 23,
     "metadata": {},
     "output_type": "execute_result"
    }
   ],
   "source": [
    "metrics.f1_score(y_test,\n",
    "                 model2,\n",
    "                 average=\"micro\")"
   ]
  },
  {
   "cell_type": "code",
   "execution_count": null,
   "metadata": {},
   "outputs": [],
   "source": []
  }
 ],
 "metadata": {
  "kernelspec": {
   "display_name": "Python 3",
   "language": "python",
   "name": "python3"
  },
  "language_info": {
   "codemirror_mode": {
    "name": "ipython",
    "version": 3
   },
   "file_extension": ".py",
   "mimetype": "text/x-python",
   "name": "python",
   "nbconvert_exporter": "python",
   "pygments_lexer": "ipython3",
   "version": "3.6.8"
  }
 },
 "nbformat": 4,
 "nbformat_minor": 4
}
